{
 "cells": [
  {
   "cell_type": "markdown",
   "metadata": {},
   "source": [
    "# Operators\n",
    "### Math\n",
    "#### +, -, *, /"
   ]
  },
  {
   "cell_type": "code",
   "execution_count": 1,
   "metadata": {},
   "outputs": [
    {
     "data": {
      "text/plain": [
       "10.0"
      ]
     },
     "execution_count": 1,
     "metadata": {},
     "output_type": "execute_result"
    }
   ],
   "source": [
    "order = (2 + 2 - 1)/3 * 10 # Operators\n",
    "order"
   ]
  },
  {
   "cell_type": "markdown",
   "metadata": {},
   "source": [
    "# Conditional Statements\n",
    "### If, else if, else\n",
    "#### \"else if\" is written as \"elif\" in Python"
   ]
  },
  {
   "cell_type": "code",
   "execution_count": 2,
   "metadata": {},
   "outputs": [
    {
     "name": "stdout",
     "output_type": "stream",
     "text": [
      "Price too high.\n"
     ]
    }
   ],
   "source": [
    "alert_price = 50\n",
    "current_price = 60\n",
    "\n",
    "# Conditional Statements\n",
    "if current_price < alert_price:\n",
    "    print(\"Price is below your alert!\")\n",
    "elif current_price == alert_price:\n",
    "    print(\"Price is at your alert.\")\n",
    "else:\n",
    "    print(\"Price too high.\")"
   ]
  },
  {
   "cell_type": "markdown",
   "metadata": {},
   "source": [
    "# For Loop\n",
    "### Traverses through items in a collection"
   ]
  },
  {
   "cell_type": "code",
   "execution_count": 3,
   "metadata": {},
   "outputs": [
    {
     "name": "stdout",
     "output_type": "stream",
     "text": [
      "Price is too high.\n",
      "Price is too high.\n",
      "Price is too high.\n",
      "Price is at your alert.\n",
      "Price is below your alert!\n"
     ]
    }
   ],
   "source": [
    "alert_price = 50\n",
    "current_prices = [60, 70, 55, 50, 40]\n",
    "\n",
    "# For Loop\n",
    "for price in current_prices:\n",
    "    if price < alert_price:\n",
    "        print(\"Price is below your alert!\")\n",
    "    elif price == alert_price:\n",
    "        print(\"Price is at your alert.\")\n",
    "    else:\n",
    "        print(\"Price is too high.\")"
   ]
  },
  {
   "cell_type": "markdown",
   "metadata": {},
   "source": [
    "##### Tip: format strings"
   ]
  },
  {
   "cell_type": "code",
   "execution_count": 4,
   "metadata": {},
   "outputs": [
    {
     "data": {
      "text/plain": [
       "'Hi SenseiSpan. How are you doing today?'"
      ]
     },
     "execution_count": 4,
     "metadata": {},
     "output_type": "execute_result"
    }
   ],
   "source": [
    "name = 'SenseiSpan'\n",
    "message = 'Hi {name}. How are you doing today?'.format(name=name)\n",
    "message"
   ]
  },
  {
   "cell_type": "code",
   "execution_count": 5,
   "metadata": {},
   "outputs": [
    {
     "name": "stdout",
     "output_type": "stream",
     "text": [
      "Price at Target is too high.\n",
      "Price at Best_Buy is too high.\n",
      "Price at Amazon is too high.\n",
      "Price at Walmart is at your alert.\n",
      "Price at Costco is below your alert!\n",
      "\n",
      "Buy headphones at these stores: ['Walmart', 'Costco']\n"
     ]
    }
   ],
   "source": [
    "alert_price = 50\n",
    "item = 'headphones'\n",
    "current_prices = {\n",
    "    'Target': 60,\n",
    "    'Best_Buy': 70,\n",
    "    'Amazon': 55,\n",
    "    'Walmart': 50,\n",
    "    'Costco': 40\n",
    "}\n",
    "\n",
    "buy_at = []\n",
    "for seller, price in current_prices.items():\n",
    "    if price < alert_price:\n",
    "        out = \"Price at {seller} is below your alert!\".format(seller=seller)\n",
    "        buy_at.append(seller)\n",
    "        print(out)\n",
    "    elif price == alert_price:\n",
    "        out = \"Price at {seller} is at your alert.\".format(seller=seller)\n",
    "        buy_at.append(seller)\n",
    "        print(out)\n",
    "    else:\n",
    "        out = \"Price at {seller} is too high.\".format(seller=seller)\n",
    "        print(out)\n",
    "\n",
    "msg = '\\nBuy {item} at these stores: {buy_at}'.format(buy_at=buy_at, item=item)\n",
    "print(msg)"
   ]
  },
  {
   "cell_type": "markdown",
   "metadata": {},
   "source": [
    "# While Loop\n",
    "### Executes the loop until a condition is met"
   ]
  },
  {
   "cell_type": "markdown",
   "metadata": {},
   "source": [
    "##### Example: A room's max occupancy is 50 people. A while loop can run while counting the current number of people in the room, and will terminate when the max occupancy is reached.\n"
   ]
  },
  {
   "cell_type": "code",
   "execution_count": 6,
   "metadata": {},
   "outputs": [
    {
     "data": {
      "text/plain": [
       "50"
      ]
     },
     "execution_count": 6,
     "metadata": {},
     "output_type": "execute_result"
    }
   ],
   "source": [
    "max_occupancy = 50\n",
    "curr_occupancy = 0\n",
    "\n",
    "while(curr_occupancy != max_occupancy):\n",
    "    curr_occupancy += 1\n",
    "\n",
    "curr_occupancy"
   ]
  }
 ],
 "metadata": {
  "kernelspec": {
   "display_name": "Python 3",
   "language": "python",
   "name": "python3"
  },
  "language_info": {
   "codemirror_mode": {
    "name": "ipython",
    "version": 3
   },
   "file_extension": ".py",
   "mimetype": "text/x-python",
   "name": "python",
   "nbconvert_exporter": "python",
   "pygments_lexer": "ipython3",
   "version": "3.7.6"
  }
 },
 "nbformat": 4,
 "nbformat_minor": 4
}
